{
 "cells": [
  {
   "cell_type": "markdown",
   "metadata": {},
   "source": [
    "\n",
    "<div style=\"text-align: center;\">\n",
    "  <img src=\"https://github.com/Hack-io-Data/Imagenes/blob/main/01-LogosHackio/logo_celeste@4x.png?raw=true\" alt=\"esquema\" />\n",
    "</div>"
   ]
  },
  {
   "cell_type": "markdown",
   "metadata": {},
   "source": [
    "#### 1. Escribe una función sin parámetros que imprima el siguiente mensaje \"¡Hola! Bienvenido.\"\n"
   ]
  },
  {
   "cell_type": "code",
   "execution_count": 11,
   "metadata": {},
   "outputs": [
    {
     "name": "stdout",
     "output_type": "stream",
     "text": [
      "¡Hola! Bienvenido\n"
     ]
    }
   ],
   "source": [
    "def mensaje_bienvenida():\n",
    "   return \"¡Hola! Bienvenido\"\n",
    "\n",
    "print(mensaje_bienvenida())"
   ]
  },
  {
   "cell_type": "markdown",
   "metadata": {},
   "source": [
    "#### 2. Escribe una función que reciba dos parámetros y devuelva la suma de ambos.\n"
   ]
  },
  {
   "cell_type": "code",
   "execution_count": 3,
   "metadata": {},
   "outputs": [
    {
     "data": {
      "text/plain": [
       "34"
      ]
     },
     "execution_count": 3,
     "metadata": {},
     "output_type": "execute_result"
    }
   ],
   "source": [
    "def calcular_suma(a,b):\n",
    "    return a+b\n",
    "\n",
    "calcular_suma(10,24)"
   ]
  },
  {
   "cell_type": "markdown",
   "metadata": {},
   "source": [
    "#### 3. Escribe una función que reciba un número y devuelva True si es par, False si no lo es."
   ]
  },
  {
   "cell_type": "code",
   "execution_count": 7,
   "metadata": {},
   "outputs": [
    {
     "data": {
      "text/plain": [
       "False"
      ]
     },
     "execution_count": 7,
     "metadata": {},
     "output_type": "execute_result"
    }
   ],
   "source": [
    "def par_o_impar(a):\n",
    "    return a % 2 == 0\n",
    "\n",
    "par_o_impar(1121) "
   ]
  },
  {
   "cell_type": "markdown",
   "metadata": {},
   "source": [
    "#### 4. Escribe un función que devuelva un saludo personalizado a una persona dado su nombre. \n"
   ]
  },
  {
   "cell_type": "code",
   "execution_count": 10,
   "metadata": {},
   "outputs": [
    {
     "name": "stdout",
     "output_type": "stream",
     "text": [
      "Hola Miki\n"
     ]
    }
   ],
   "source": [
    "def mensaje_personalizado():\n",
    "    mensaje = input(\"¿Me dices tu nombre? \")\n",
    "    return f\"Hola {mensaje}\"\n",
    "\n",
    "print(mensaje_personalizado())"
   ]
  },
  {
   "cell_type": "markdown",
   "metadata": {},
   "source": [
    "#### 5. Escribe una función que sume todos los números que reciba como argumento. La función debe recibir una cantidad variable de argumentos y devolver la suma de todos ellos."
   ]
  },
  {
   "cell_type": "code",
   "execution_count": 12,
   "metadata": {},
   "outputs": [
    {
     "data": {
      "text/plain": [
       "47"
      ]
     },
     "execution_count": 12,
     "metadata": {},
     "output_type": "execute_result"
    }
   ],
   "source": [
    "def numeros_suma(*numeros):\n",
    "    return sum(numeros)\n",
    "\n",
    "numeros_suma(2,4,9,10,22)"
   ]
  },
  {
   "cell_type": "markdown",
   "metadata": {},
   "source": [
    "#### 6. Escribe una función que cuente las letras de una palabra y devuelva un diccionario con la cantidad de veces que se repite cada letra \n"
   ]
  },
  {
   "cell_type": "code",
   "execution_count": 21,
   "metadata": {},
   "outputs": [
    {
     "name": "stdout",
     "output_type": "stream",
     "text": [
      "Conteo de letras: {'e': 2, 'j': 1, 'r': 1, 'c': 2, 'i': 2, 'o': 1}\n"
     ]
    }
   ],
   "source": [
    "def cuenta_letras(palabra):\n",
    "    conteo = {}  \n",
    "    for letra in palabra:\n",
    "        if letra in conteo:\n",
    "            conteo[letra] += 1 \n",
    "        else:\n",
    "            conteo[letra] = 1  \n",
    "    return conteo  \n",
    "\n",
    "resultado = cuenta_letras(\"ejercicio\")\n",
    "print(f\"Conteo de letras: {resultado}\")\n",
    "\n",
    "  "
   ]
  },
  {
   "cell_type": "markdown",
   "metadata": {},
   "source": [
    "#### 7. Escribe un función recursiva para calcular el factorial de un número entero no negativo."
   ]
  },
  {
   "cell_type": "code",
   "execution_count": 22,
   "metadata": {},
   "outputs": [
    {
     "name": "stdout",
     "output_type": "stream",
     "text": [
      "El factorial de 6 es: 720\n"
     ]
    }
   ],
   "source": [
    "def factorial(n):\n",
    "    if n == 0 or n == 1:  \n",
    "        return 1\n",
    "    else:\n",
    "        return n * factorial(n - 1)  \n",
    "\n",
    "\n",
    "numero = int(input(\"Introduce un número entero no negativo: \"))\n",
    "if numero < 0:\n",
    "    print(\"El número debe ser no negativo.\")\n",
    "else:\n",
    "    print(f\"El factorial de {numero} es: {factorial(numero)}\")\n"
   ]
  },
  {
   "cell_type": "markdown",
   "metadata": {},
   "source": [
    "#### 8. Escribe una función que tome dos parámetros: `figura` (una cadena que puede ser `\"rectangulo\"`, `\"circulo\"` o `\"triangulo\"`) y `datos` (una tupla con los datos necesarios para calcular el área de la figura). "
   ]
  },
  {
   "cell_type": "code",
   "execution_count": 23,
   "metadata": {},
   "outputs": [
    {
     "name": "stdout",
     "output_type": "stream",
     "text": [
      "50\n",
      "153.93804002589985\n",
      "12.0\n"
     ]
    }
   ],
   "source": [
    "import math\n",
    "def figura (figura, datos):\n",
    "    import math  \n",
    "\n",
    "def calcular_area(figura, datos):\n",
    "    \"\"\"\n",
    "    Calcula el área de una figura geométrica.\n",
    "    \n",
    "    :param figura: Tipo de figura (\"rectangulo\", \"circulo\", \"triangulo\").\n",
    "    :param datos: Tupla con los datos necesarios para calcular el área.\n",
    "    :return: Área de la figura o un mensaje de error si los datos son incorrectos.\n",
    "    \"\"\"\n",
    "    if figura.lower() == \"rectangulo\":\n",
    "        if len(datos) == 2:\n",
    "            base, altura = datos\n",
    "            return base * altura\n",
    "        else:\n",
    "            return \"Error: Para un rectángulo se necesitan 2 valores (base y altura).\"\n",
    "    \n",
    "    elif figura.lower() == \"circulo\":\n",
    "        if len(datos) == 1:\n",
    "            radio = datos[0]\n",
    "            return math.pi * radio**2\n",
    "        else:\n",
    "            return \"Error: Para un círculo se necesita 1 valor (radio).\"\n",
    "    \n",
    "    elif figura.lower() == \"triangulo\":\n",
    "        if len(datos) == 2:\n",
    "            base, altura = datos\n",
    "            return (base * altura) / 2\n",
    "        else:\n",
    "            return \"Error: Para un triángulo se necesitan 2 valores (base y altura).\"\n",
    "    \n",
    "    else:\n",
    "        return \"Error: Figura no reconocida. Usa 'rectangulo', 'circulo' o 'triangulo'.\"\n",
    "\n",
    "\n",
    "print(calcular_area(\"rectangulo\", (5, 10)))  \n",
    "print(calcular_area(\"circulo\", (7,)))       \n",
    "print(calcular_area(\"triangulo\", (6, 4)))    \n",
    "\n"
   ]
  },
  {
   "cell_type": "markdown",
   "metadata": {},
   "source": [
    "#### 9. Escribe una función que tome una lista de números como parámetro y devuelva el número más grande de la lista. No utilices la función `max()` de Python en tu solución."
   ]
  },
  {
   "cell_type": "code",
   "execution_count": 24,
   "metadata": {},
   "outputs": [
    {
     "name": "stdout",
     "output_type": "stream",
     "text": [
      "El número más grande de la lista es: 40\n"
     ]
    }
   ],
   "source": [
    "def numero_mas_grande(lista):\n",
    "    if not lista: \n",
    "        return \"La lista está vacía.\"\n",
    "    \n",
    "    mayor = lista[0]  \n",
    "    for numero in lista:  # Recorrer la lista\n",
    "        if numero > mayor:  \n",
    "            mayor = numero  \n",
    "    return mayor \n",
    "\n",
    "\n",
    "numeros = [10, 20, 5, 40, 15]\n",
    "resultado = numero_mas_grande(numeros)\n",
    "print(f\"El número más grande de la lista es: {resultado}\")\n"
   ]
  },
  {
   "cell_type": "markdown",
   "metadata": {},
   "source": [
    "#### 10. Escribe una función que tome una cadena como parámetro un texto y devuelva `True` si la cadena es un palíndromo (se lee igual de izquierda a derecha que de derecha a izquierda), y `False` en caso contrario. Ignora los espacios y considera mayúsculas y minúsculas de manera insensible.\n"
   ]
  },
  {
   "cell_type": "code",
   "execution_count": 25,
   "metadata": {},
   "outputs": [
    {
     "name": "stdout",
     "output_type": "stream",
     "text": [
      "La cadena es un palíndromo.\n"
     ]
    }
   ],
   "source": [
    "def es_palindromo(cadena):\n",
    "    \n",
    "    cadena = cadena.replace(\" \", \"\").lower()\n",
    "    \n",
    "  \n",
    "    return cadena == cadena[::-1]\n",
    "\n",
    "texto = input(\"Introduce un texto: \")\n",
    "if es_palindromo(texto):\n",
    "    print(\"La cadena es un palíndromo.\")\n",
    "else:\n",
    "    print(\"La cadena no es un palíndromo.\")\n"
   ]
  },
  {
   "cell_type": "code",
   "execution_count": 26,
   "metadata": {},
   "outputs": [],
   "source": [
    "def contar_vocales_consonantes(cadena):\n",
    "   \n",
    "    vocales = \"aeiou\"\n",
    "    \n",
    "  \n",
    "    contador_vocales = 0\n",
    "    contador_consonantes = 0\n",
    "    \n",
    "    \n",
    "    cadena = cadena.replace(\" \", \"\").lower()\n",
    "    \n",
    "    \n",
    "    for letra in cadena:\n",
    "        if letra.isalpha():  \n",
    "            if letra in vocales:\n",
    "                contador_vocales += 1\n",
    "            else:\n",
    "                contador_consonantes += 1\n",
    "    \n",
    "    return contador_vocales, contador_consonantes\n"
   ]
  }
 ],
 "metadata": {
  "kernelspec": {
   "display_name": "Python 3",
   "language": "python",
   "name": "python3"
  },
  "language_info": {
   "codemirror_mode": {
    "name": "ipython",
    "version": 3
   },
   "file_extension": ".py",
   "mimetype": "text/x-python",
   "name": "python",
   "nbconvert_exporter": "python",
   "pygments_lexer": "ipython3",
   "version": "3.9.5"
  }
 },
 "nbformat": 4,
 "nbformat_minor": 2
}
