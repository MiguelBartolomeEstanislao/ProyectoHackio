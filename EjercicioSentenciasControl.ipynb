{
 "cells": [
  {
   "cell_type": "markdown",
   "metadata": {},
   "source": [
    "<div style=\"text-align: center;\">\n",
    "  <img src=\"https://github.com/Hack-io-Data/Imagenes/blob/main/01-LogosHackio/logo_celeste@4x.png?raw=true\" alt=\"logo hack(io)\" />\n",
    "</div>"
   ]
  },
  {
   "cell_type": "markdown",
   "metadata": {},
   "source": [
    "#### 1. Escribe un programa que determine si un número es par o impar.\n",
    "\n"
   ]
  },
  {
   "cell_type": "code",
   "execution_count": 1,
   "metadata": {},
   "outputs": [
    {
     "name": "stdout",
     "output_type": "stream",
     "text": [
      "Numero impar\n"
     ]
    }
   ],
   "source": [
    "numero = int(input(\"Dime un numero del 1 al 10: \"))\n",
    "if numero % 2 == 0:\n",
    "    print(\"Numero par\")\n",
    "else:\n",
    "    print(\"Numero impar\")\n"
   ]
  },
  {
   "cell_type": "markdown",
   "metadata": {},
   "source": [
    "#### 2. Genera un programa que nos diga si es de noche, de día o tarde según la hora proporcionada por el usuario."
   ]
  },
  {
   "cell_type": "code",
   "execution_count": 7,
   "metadata": {},
   "outputs": [
    {
     "name": "stdout",
     "output_type": "stream",
     "text": [
      "Es de dia\n"
     ]
    }
   ],
   "source": [
    "hora_usuario = int(input(\"¿Que hora es(en formato horas, sin minutos) ?\"))\n",
    "if 0 <= hora_usuario < 12:\n",
    "    print(\"Es de dia\")\n",
    "elif 12 <= hora_usuario < 18:\n",
    "    print(\"Es por la tarde\")\n",
    "elif 18 <= hora_usuario <= 24:\n",
    "    print(\"Es de noche\")"
   ]
  },
  {
   "cell_type": "markdown",
   "metadata": {},
   "source": [
    "#### 3. Dado un nombre imprime un saludo personalizado."
   ]
  },
  {
   "cell_type": "code",
   "execution_count": 4,
   "metadata": {},
   "outputs": [
    {
     "name": "stdout",
     "output_type": "stream",
     "text": [
      "¡Hola Miki!\n"
     ]
    }
   ],
   "source": [
    "saludo = input(\"Cual es tu nombre: ?\")\n",
    "print(f\"¡Hola {saludo}!\")"
   ]
  },
  {
   "cell_type": "markdown",
   "metadata": {},
   "source": [
    "#### 4. Escribe un programa que determine qué calificación en texto tiene un alumno en base a su calificación numérica. Las reglas de calificación son: \n",
    "\n",
    "- 0 - 69 insuficiente\n",
    "\n",
    "- 70 - 79 bien\n",
    "\n",
    "- 80 - 89 muy bien\n",
    "\n",
    "- 90 - 100 excelente\n"
   ]
  },
  {
   "cell_type": "code",
   "execution_count": 24,
   "metadata": {},
   "outputs": [
    {
     "name": "stdout",
     "output_type": "stream",
     "text": [
      "26\n",
      "Insuficiente\n"
     ]
    }
   ],
   "source": [
    "import random\n",
    "calificacion = random.randint(0,100)\n",
    "print(calificacion)\n",
    "\n",
    "if 0 <= calificacion < 69:\n",
    "    print(\"Insuficiente\")\n",
    "elif 70 <= calificacion < 79:\n",
    "    print(\"Bien\")\n",
    "elif 80 <= calificacion < 89:\n",
    "    print(\"Muy bien\")\n",
    "elif 90 <= calificacion < 100:\n",
    "    print(\"Excelente\")"
   ]
  },
  {
   "cell_type": "markdown",
   "metadata": {},
   "source": [
    "#### 5. Escribe un programa que imprima el día de la semana, dado un número del 1 al 7.\n"
   ]
  },
  {
   "cell_type": "code",
   "execution_count": 30,
   "metadata": {},
   "outputs": [
    {
     "name": "stdout",
     "output_type": "stream",
     "text": [
      "3\n",
      "Es miercoles\n"
     ]
    }
   ],
   "source": [
    "dia_semana = random.randint(1,7)\n",
    "print(dia_semana)\n",
    "\n",
    "if dia_semana == 1:\n",
    "    print(\"Es lunes\")\n",
    "elif dia_semana == 2:\n",
    "    print(\"Es martes\")\n",
    "elif dia_semana == 3:\n",
    "    print(\"Es miercoles\")\n",
    "elif dia_semana == 4:\n",
    "    print(\"Es jueves\")\n",
    "elif dia_semana == 5:\n",
    "    print(\"Es viernes\")\n",
    "elif dia_semana == 6:\n",
    "    print(\"Es sabado\")\n",
    "else:\n",
    "    print(\"Es domingo\")"
   ]
  },
  {
   "cell_type": "markdown",
   "metadata": {},
   "source": [
    "#### 6. Escribe un programa que determine si un número es positivo, negativo o cero."
   ]
  },
  {
   "cell_type": "code",
   "execution_count": 32,
   "metadata": {},
   "outputs": [
    {
     "name": "stdout",
     "output_type": "stream",
     "text": [
      "Elegiste 0\n"
     ]
    }
   ],
   "source": [
    "numero_solicitado = int(input(\"Escribe un numero entre -10 y 10: \"))\n",
    "\n",
    "if -10 <= numero_solicitado < -1:\n",
    "    print(\"El numero es negativo\")\n",
    "elif numero_solicitado == 0:\n",
    "    print(\"Elegiste 0\")\n",
    "elif 1 <= numero_solicitado <= 10:\n",
    "    print(\"El numero es positivo\")\n",
    "else:\n",
    "    print(\"Numero fuera de rango\")"
   ]
  },
  {
   "cell_type": "markdown",
   "metadata": {},
   "source": [
    "#### 7. Escribe un programa que determine si una persona puede conducir o no. La edad mínima para conducir es 18 años. \n"
   ]
  },
  {
   "cell_type": "code",
   "execution_count": 37,
   "metadata": {},
   "outputs": [
    {
     "name": "stdout",
     "output_type": "stream",
     "text": [
      "Espera a tener 18\n"
     ]
    }
   ],
   "source": [
    "edad_conducir = 18\n",
    "edad = int(input(\"Introduce tu edad: \"))\n",
    "\n",
    "if edad_conducir <= edad:\n",
    "    print(\"Puedes conducir\")\n",
    "else:\n",
    "    print(\"Espera a tener 18\")"
   ]
  },
  {
   "cell_type": "markdown",
   "metadata": {},
   "source": [
    "#### 8. Escribe un programa que determine si un estudiante aprobó o suspendió un examen."
   ]
  },
  {
   "cell_type": "code",
   "execution_count": 40,
   "metadata": {},
   "outputs": [
    {
     "name": "stdout",
     "output_type": "stream",
     "text": [
      "El estudiante suspendió el examen.\n"
     ]
    }
   ],
   "source": [
    "calificacion_minima = 5  \n",
    "calificacion = float(input(\"Introduce la calificación del estudiante: \"))\n",
    "\n",
    "if calificacion >= calificacion_minima:\n",
    "    print(\"El estudiante aprobó el examen.\")\n",
    "else:\n",
    "    print(\"El estudiante suspendió el examen.\")\n"
   ]
  },
  {
   "cell_type": "markdown",
   "metadata": {},
   "source": [
    "#### 9. Escribe un programa que determine si un número es múltiplo de 3 y 5.\n"
   ]
  },
  {
   "cell_type": "code",
   "execution_count": 39,
   "metadata": {},
   "outputs": [
    {
     "name": "stdout",
     "output_type": "stream",
     "text": [
      "Numero multiplo de 5 y 3\n"
     ]
    }
   ],
   "source": [
    "numero = int(input(\"Introduce un numero: \"))\n",
    "\n",
    "if numero % 3 == 0 and numero % 5 == 0:\n",
    "    print(\"Numero multiplo de 5 y 3\")\n",
    "else:\n",
    "    print(\"Numero no multiplo de 5 y 3\")"
   ]
  },
  {
   "cell_type": "markdown",
   "metadata": {},
   "source": [
    "#### 10. Escribe un programa que determine si un número es par o impar.\n"
   ]
  },
  {
   "cell_type": "code",
   "execution_count": null,
   "metadata": {},
   "outputs": [],
   "source": [
    "numero = int(input(\"Dime un numero del 1 al 10: \"))\n",
    "if numero % 2 == 0:\n",
    "    print(\"Numero par\")\n",
    "else:\n",
    "    print(\"Numero impar\")"
   ]
  }
 ],
 "metadata": {
  "kernelspec": {
   "display_name": "Python 3",
   "language": "python",
   "name": "python3"
  },
  "language_info": {
   "codemirror_mode": {
    "name": "ipython",
    "version": 3
   },
   "file_extension": ".py",
   "mimetype": "text/x-python",
   "name": "python",
   "nbconvert_exporter": "python",
   "pygments_lexer": "ipython3",
   "version": "3.9.5"
  }
 },
 "nbformat": 4,
 "nbformat_minor": 2
}
